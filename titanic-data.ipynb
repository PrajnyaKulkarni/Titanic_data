{
 "cells": [
  {
   "cell_type": "markdown",
   "id": "744eeffd",
   "metadata": {
    "papermill": {
     "duration": 0.006741,
     "end_time": "2023-07-19T08:34:35.232772",
     "exception": false,
     "start_time": "2023-07-19T08:34:35.226031",
     "status": "completed"
    },
    "tags": []
   },
   "source": [
    "### Importing necessary libraries"
   ]
  },
  {
   "cell_type": "code",
   "execution_count": 1,
   "id": "7db6253d",
   "metadata": {
    "execution": {
     "iopub.execute_input": "2023-07-19T08:34:35.247195Z",
     "iopub.status.busy": "2023-07-19T08:34:35.246745Z",
     "iopub.status.idle": "2023-07-19T08:34:36.855563Z",
     "shell.execute_reply": "2023-07-19T08:34:36.854404Z"
    },
    "papermill": {
     "duration": 1.61957,
     "end_time": "2023-07-19T08:34:36.858569",
     "exception": false,
     "start_time": "2023-07-19T08:34:35.238999",
     "status": "completed"
    },
    "tags": []
   },
   "outputs": [],
   "source": [
    "import pandas as pd\n",
    "import numpy as np\n",
    "\n",
    "pd.set_option(\"display.max_rows\", None, \"display.max_columns\", None)\n",
    "\n",
    "import matplotlib.pyplot as plt\n",
    "import seaborn as sns"
   ]
  },
  {
   "cell_type": "markdown",
   "id": "474b96b8",
   "metadata": {
    "papermill": {
     "duration": 0.00564,
     "end_time": "2023-07-19T08:34:36.870411",
     "exception": false,
     "start_time": "2023-07-19T08:34:36.864771",
     "status": "completed"
    },
    "tags": []
   },
   "source": [
    "### Loading the data"
   ]
  },
  {
   "cell_type": "code",
   "execution_count": 2,
   "id": "ea97c5fb",
   "metadata": {
    "execution": {
     "iopub.execute_input": "2023-07-19T08:34:36.884254Z",
     "iopub.status.busy": "2023-07-19T08:34:36.883731Z",
     "iopub.status.idle": "2023-07-19T08:34:36.932372Z",
     "shell.execute_reply": "2023-07-19T08:34:36.931241Z"
    },
    "papermill": {
     "duration": 0.059008,
     "end_time": "2023-07-19T08:34:36.935280",
     "exception": false,
     "start_time": "2023-07-19T08:34:36.876272",
     "status": "completed"
    },
    "tags": []
   },
   "outputs": [],
   "source": [
    "titanic_train = pd.read_csv('/kaggle/input/titanic-solution-for-beginners-guide/train.csv')\n",
    "titanic_test = pd.read_csv('/kaggle/input/titanic-solution-for-beginners-guide/test.csv')\n",
    "titanic_gender = pd.read_csv('/kaggle/input/titanic-solution-for-beginners-guide/genderclassfare.csv')"
   ]
  },
  {
   "cell_type": "code",
   "execution_count": 3,
   "id": "3af44bba",
   "metadata": {
    "execution": {
     "iopub.execute_input": "2023-07-19T08:34:36.949477Z",
     "iopub.status.busy": "2023-07-19T08:34:36.949011Z",
     "iopub.status.idle": "2023-07-19T08:34:36.988489Z",
     "shell.execute_reply": "2023-07-19T08:34:36.987245Z"
    },
    "papermill": {
     "duration": 0.049945,
     "end_time": "2023-07-19T08:34:36.991475",
     "exception": false,
     "start_time": "2023-07-19T08:34:36.941530",
     "status": "completed"
    },
    "tags": []
   },
   "outputs": [
    {
     "data": {
      "text/html": [
       "<div>\n",
       "<style scoped>\n",
       "    .dataframe tbody tr th:only-of-type {\n",
       "        vertical-align: middle;\n",
       "    }\n",
       "\n",
       "    .dataframe tbody tr th {\n",
       "        vertical-align: top;\n",
       "    }\n",
       "\n",
       "    .dataframe thead th {\n",
       "        text-align: right;\n",
       "    }\n",
       "</style>\n",
       "<table border=\"1\" class=\"dataframe\">\n",
       "  <thead>\n",
       "    <tr style=\"text-align: right;\">\n",
       "      <th></th>\n",
       "      <th>PassengerId</th>\n",
       "      <th>Survived</th>\n",
       "      <th>Pclass</th>\n",
       "      <th>Name</th>\n",
       "      <th>Sex</th>\n",
       "      <th>Age</th>\n",
       "      <th>SibSp</th>\n",
       "      <th>Parch</th>\n",
       "      <th>Ticket</th>\n",
       "      <th>Fare</th>\n",
       "      <th>Cabin</th>\n",
       "      <th>Embarked</th>\n",
       "    </tr>\n",
       "  </thead>\n",
       "  <tbody>\n",
       "    <tr>\n",
       "      <th>0</th>\n",
       "      <td>1</td>\n",
       "      <td>0</td>\n",
       "      <td>3</td>\n",
       "      <td>Braund, Mr. Owen Harris</td>\n",
       "      <td>male</td>\n",
       "      <td>22.0</td>\n",
       "      <td>1</td>\n",
       "      <td>0</td>\n",
       "      <td>A/5 21171</td>\n",
       "      <td>7.2500</td>\n",
       "      <td>NaN</td>\n",
       "      <td>S</td>\n",
       "    </tr>\n",
       "    <tr>\n",
       "      <th>1</th>\n",
       "      <td>2</td>\n",
       "      <td>1</td>\n",
       "      <td>1</td>\n",
       "      <td>Cumings, Mrs. John Bradley (Florence Briggs Th...</td>\n",
       "      <td>female</td>\n",
       "      <td>38.0</td>\n",
       "      <td>1</td>\n",
       "      <td>0</td>\n",
       "      <td>PC 17599</td>\n",
       "      <td>71.2833</td>\n",
       "      <td>C85</td>\n",
       "      <td>C</td>\n",
       "    </tr>\n",
       "    <tr>\n",
       "      <th>2</th>\n",
       "      <td>3</td>\n",
       "      <td>1</td>\n",
       "      <td>3</td>\n",
       "      <td>Heikkinen, Miss. Laina</td>\n",
       "      <td>female</td>\n",
       "      <td>26.0</td>\n",
       "      <td>0</td>\n",
       "      <td>0</td>\n",
       "      <td>STON/O2. 3101282</td>\n",
       "      <td>7.9250</td>\n",
       "      <td>NaN</td>\n",
       "      <td>S</td>\n",
       "    </tr>\n",
       "    <tr>\n",
       "      <th>3</th>\n",
       "      <td>4</td>\n",
       "      <td>1</td>\n",
       "      <td>1</td>\n",
       "      <td>Futrelle, Mrs. Jacques Heath (Lily May Peel)</td>\n",
       "      <td>female</td>\n",
       "      <td>35.0</td>\n",
       "      <td>1</td>\n",
       "      <td>0</td>\n",
       "      <td>113803</td>\n",
       "      <td>53.1000</td>\n",
       "      <td>C123</td>\n",
       "      <td>S</td>\n",
       "    </tr>\n",
       "    <tr>\n",
       "      <th>4</th>\n",
       "      <td>5</td>\n",
       "      <td>0</td>\n",
       "      <td>3</td>\n",
       "      <td>Allen, Mr. William Henry</td>\n",
       "      <td>male</td>\n",
       "      <td>35.0</td>\n",
       "      <td>0</td>\n",
       "      <td>0</td>\n",
       "      <td>373450</td>\n",
       "      <td>8.0500</td>\n",
       "      <td>NaN</td>\n",
       "      <td>S</td>\n",
       "    </tr>\n",
       "  </tbody>\n",
       "</table>\n",
       "</div>"
      ],
      "text/plain": [
       "   PassengerId  Survived  Pclass  \\\n",
       "0            1         0       3   \n",
       "1            2         1       1   \n",
       "2            3         1       3   \n",
       "3            4         1       1   \n",
       "4            5         0       3   \n",
       "\n",
       "                                                Name     Sex   Age  SibSp  \\\n",
       "0                            Braund, Mr. Owen Harris    male  22.0      1   \n",
       "1  Cumings, Mrs. John Bradley (Florence Briggs Th...  female  38.0      1   \n",
       "2                             Heikkinen, Miss. Laina  female  26.0      0   \n",
       "3       Futrelle, Mrs. Jacques Heath (Lily May Peel)  female  35.0      1   \n",
       "4                           Allen, Mr. William Henry    male  35.0      0   \n",
       "\n",
       "   Parch            Ticket     Fare Cabin Embarked  \n",
       "0      0         A/5 21171   7.2500   NaN        S  \n",
       "1      0          PC 17599  71.2833   C85        C  \n",
       "2      0  STON/O2. 3101282   7.9250   NaN        S  \n",
       "3      0            113803  53.1000  C123        S  \n",
       "4      0            373450   8.0500   NaN        S  "
      ]
     },
     "execution_count": 3,
     "metadata": {},
     "output_type": "execute_result"
    }
   ],
   "source": [
    "titanic_train.head()"
   ]
  },
  {
   "cell_type": "markdown",
   "id": "a81199a5",
   "metadata": {
    "papermill": {
     "duration": 0.006023,
     "end_time": "2023-07-19T08:34:37.003750",
     "exception": false,
     "start_time": "2023-07-19T08:34:36.997727",
     "status": "completed"
    },
    "tags": []
   },
   "source": [
    "### Data Dictionary\n",
    "\n",
    "**Data dictionary provides the information about the data.**\n",
    "\n",
    "1. PassengerId = It is unique for each passengers in the dataset.So, it is the primary key\n",
    "2. Survived = TIt shows if a passenger survived or not the disaster. 0 means no.\n",
    "3. pclass = It is a proxy for socio-economic status.if it's 1 = Upper, 2= Middle and 3 = Lower\n",
    "4. Sex = sex of the passenger\n",
    "5. Age = Age of the passenger in years\n",
    "6. SibSp = Denotes the no. of siblings or spouses of a particular passenger.\n",
    "7. Parch = # of parents / children aboard the Titanic\n",
    "8. ticket = Ticket number\n",
    "9. Fare = Passenger fare in Pounds\n",
    "10. Cabin = Cabin number\n",
    "11. Embarked = Port of Exit. C = Cherbourg, Q = Queenstown, S = Southampton"
   ]
  },
  {
   "cell_type": "code",
   "execution_count": 4,
   "id": "0995fd0c",
   "metadata": {
    "execution": {
     "iopub.execute_input": "2023-07-19T08:34:37.020423Z",
     "iopub.status.busy": "2023-07-19T08:34:37.019921Z",
     "iopub.status.idle": "2023-07-19T08:34:37.026834Z",
     "shell.execute_reply": "2023-07-19T08:34:37.025734Z"
    },
    "papermill": {
     "duration": 0.017581,
     "end_time": "2023-07-19T08:34:37.029477",
     "exception": false,
     "start_time": "2023-07-19T08:34:37.011896",
     "status": "completed"
    },
    "tags": []
   },
   "outputs": [
    {
     "name": "stdout",
     "output_type": "stream",
     "text": [
      "Shape of train dataset: (891, 12)\n",
      "Shape of test dataset: (418, 11)\n"
     ]
    }
   ],
   "source": [
    "print(\"Shape of train dataset:\" ,titanic_train.shape)\n",
    "print(\"Shape of test dataset:\" ,titanic_test.shape)"
   ]
  },
  {
   "cell_type": "code",
   "execution_count": 5,
   "id": "31beb46b",
   "metadata": {
    "execution": {
     "iopub.execute_input": "2023-07-19T08:34:37.045114Z",
     "iopub.status.busy": "2023-07-19T08:34:37.043966Z",
     "iopub.status.idle": "2023-07-19T08:34:37.058999Z",
     "shell.execute_reply": "2023-07-19T08:34:37.057801Z"
    },
    "papermill": {
     "duration": 0.025848,
     "end_time": "2023-07-19T08:34:37.061759",
     "exception": false,
     "start_time": "2023-07-19T08:34:37.035911",
     "status": "completed"
    },
    "tags": []
   },
   "outputs": [
    {
     "data": {
      "text/plain": [
       "PassengerId     0.000000\n",
       "Survived        0.000000\n",
       "Pclass          0.000000\n",
       "Name            0.000000\n",
       "Sex             0.000000\n",
       "Age            19.865320\n",
       "SibSp           0.000000\n",
       "Parch           0.000000\n",
       "Ticket          0.000000\n",
       "Fare            0.000000\n",
       "Cabin          77.104377\n",
       "Embarked        0.224467\n",
       "dtype: float64"
      ]
     },
     "execution_count": 5,
     "metadata": {},
     "output_type": "execute_result"
    }
   ],
   "source": [
    "titanic_train.isna().sum()* 100 / len(titanic_train)"
   ]
  },
  {
   "cell_type": "code",
   "execution_count": 6,
   "id": "1bf9cbfa",
   "metadata": {
    "execution": {
     "iopub.execute_input": "2023-07-19T08:34:37.077586Z",
     "iopub.status.busy": "2023-07-19T08:34:37.077081Z",
     "iopub.status.idle": "2023-07-19T08:34:37.088863Z",
     "shell.execute_reply": "2023-07-19T08:34:37.087682Z"
    },
    "papermill": {
     "duration": 0.022793,
     "end_time": "2023-07-19T08:34:37.091273",
     "exception": false,
     "start_time": "2023-07-19T08:34:37.068480",
     "status": "completed"
    },
    "tags": []
   },
   "outputs": [
    {
     "data": {
      "text/plain": [
       "PassengerId     0.000000\n",
       "Pclass          0.000000\n",
       "Name            0.000000\n",
       "Sex             0.000000\n",
       "Age            20.574163\n",
       "SibSp           0.000000\n",
       "Parch           0.000000\n",
       "Ticket          0.000000\n",
       "Fare            0.239234\n",
       "Cabin          78.229665\n",
       "Embarked        0.000000\n",
       "dtype: float64"
      ]
     },
     "execution_count": 6,
     "metadata": {},
     "output_type": "execute_result"
    }
   ],
   "source": [
    "titanic_test.isna().sum()* 100 / len(titanic_test)"
   ]
  },
  {
   "cell_type": "markdown",
   "id": "df14da34",
   "metadata": {
    "papermill": {
     "duration": 0.006413,
     "end_time": "2023-07-19T08:34:37.104535",
     "exception": false,
     "start_time": "2023-07-19T08:34:37.098122",
     "status": "completed"
    },
    "tags": []
   },
   "source": [
    "**Here, both the datasets have 20% null values in Age column and 78% null values in Cabin column.**"
   ]
  },
  {
   "cell_type": "code",
   "execution_count": 7,
   "id": "afc07da0",
   "metadata": {
    "execution": {
     "iopub.execute_input": "2023-07-19T08:34:37.119859Z",
     "iopub.status.busy": "2023-07-19T08:34:37.119359Z",
     "iopub.status.idle": "2023-07-19T08:34:37.128842Z",
     "shell.execute_reply": "2023-07-19T08:34:37.127976Z"
    },
    "papermill": {
     "duration": 0.019946,
     "end_time": "2023-07-19T08:34:37.131203",
     "exception": false,
     "start_time": "2023-07-19T08:34:37.111257",
     "status": "completed"
    },
    "tags": []
   },
   "outputs": [
    {
     "data": {
      "text/plain": [
       "PassengerId    0\n",
       "Survived       0\n",
       "dtype: int64"
      ]
     },
     "execution_count": 7,
     "metadata": {},
     "output_type": "execute_result"
    }
   ],
   "source": [
    "titanic_gender.isna().sum()"
   ]
  },
  {
   "cell_type": "code",
   "execution_count": 8,
   "id": "bb633c08",
   "metadata": {
    "execution": {
     "iopub.execute_input": "2023-07-19T08:34:37.147934Z",
     "iopub.status.busy": "2023-07-19T08:34:37.147456Z",
     "iopub.status.idle": "2023-07-19T08:34:37.165752Z",
     "shell.execute_reply": "2023-07-19T08:34:37.164607Z"
    },
    "papermill": {
     "duration": 0.029436,
     "end_time": "2023-07-19T08:34:37.168019",
     "exception": false,
     "start_time": "2023-07-19T08:34:37.138583",
     "status": "completed"
    },
    "tags": []
   },
   "outputs": [
    {
     "data": {
      "text/plain": [
       "0"
      ]
     },
     "execution_count": 8,
     "metadata": {},
     "output_type": "execute_result"
    }
   ],
   "source": [
    "titanic_train.duplicated().sum()"
   ]
  },
  {
   "cell_type": "code",
   "execution_count": 9,
   "id": "75171638",
   "metadata": {
    "execution": {
     "iopub.execute_input": "2023-07-19T08:34:37.184411Z",
     "iopub.status.busy": "2023-07-19T08:34:37.183902Z",
     "iopub.status.idle": "2023-07-19T08:34:37.195273Z",
     "shell.execute_reply": "2023-07-19T08:34:37.194002Z"
    },
    "papermill": {
     "duration": 0.022314,
     "end_time": "2023-07-19T08:34:37.197602",
     "exception": false,
     "start_time": "2023-07-19T08:34:37.175288",
     "status": "completed"
    },
    "tags": []
   },
   "outputs": [
    {
     "data": {
      "text/plain": [
       "0"
      ]
     },
     "execution_count": 9,
     "metadata": {},
     "output_type": "execute_result"
    }
   ],
   "source": [
    "titanic_test.duplicated().sum()"
   ]
  },
  {
   "cell_type": "markdown",
   "id": "e962ad65",
   "metadata": {
    "papermill": {
     "duration": 0.006992,
     "end_time": "2023-07-19T08:34:37.212191",
     "exception": false,
     "start_time": "2023-07-19T08:34:37.205199",
     "status": "completed"
    },
    "tags": []
   },
   "source": [
    "**There are no duplicate values in both the datasets**"
   ]
  },
  {
   "cell_type": "code",
   "execution_count": 10,
   "id": "b200c801",
   "metadata": {
    "execution": {
     "iopub.execute_input": "2023-07-19T08:34:37.228685Z",
     "iopub.status.busy": "2023-07-19T08:34:37.228218Z",
     "iopub.status.idle": "2023-07-19T08:34:37.604259Z",
     "shell.execute_reply": "2023-07-19T08:34:37.603311Z"
    },
    "papermill": {
     "duration": 0.387852,
     "end_time": "2023-07-19T08:34:37.607133",
     "exception": false,
     "start_time": "2023-07-19T08:34:37.219281",
     "status": "completed"
    },
    "tags": []
   },
   "outputs": [
    {
     "data": {
      "text/plain": [
       "<Axes: >"
      ]
     },
     "execution_count": 10,
     "metadata": {},
     "output_type": "execute_result"
    },
    {
     "data": {
      "image/png": "[encoded data removed]",
      "text/plain": [
       "<Figure size 640x480 with 1 Axes>"
      ]
     },
     "metadata": {},
     "output_type": "display_data"
    }
   ],
   "source": [
    "sns.boxplot(titanic_train)"
   ]
  },
  {
   "cell_type": "markdown",
   "id": "8315408c",
   "metadata": {
    "papermill": {
     "duration": 0.008571,
     "end_time": "2023-07-19T08:34:37.628754",
     "exception": false,
     "start_time": "2023-07-19T08:34:37.620183",
     "status": "completed"
    },
    "tags": []
   },
   "source": [
    "**Here we can see that there are outliers in Age and Fare columns.**"
   ]
  },
  {
   "cell_type": "code",
   "execution_count": 11,
   "id": "31afef54",
   "metadata": {
    "execution": {
     "iopub.execute_input": "2023-07-19T08:34:37.646397Z",
     "iopub.status.busy": "2023-07-19T08:34:37.645870Z",
     "iopub.status.idle": "2023-07-19T08:34:37.924614Z",
     "shell.execute_reply": "2023-07-19T08:34:37.922391Z"
    },
    "papermill": {
     "duration": 0.291466,
     "end_time": "2023-07-19T08:34:37.928037",
     "exception": false,
     "start_time": "2023-07-19T08:34:37.636571",
     "status": "completed"
    },
    "tags": []
   },
   "outputs": [
    {
     "data": {
      "text/plain": [
       "<Axes: >"
      ]
     },
     "execution_count": 11,
     "metadata": {},
     "output_type": "execute_result"
    },
    {
     "data": {
      "image/png": "[encoded data removed]",
      "text/plain": [
       "<Figure size 640x480 with 1 Axes>"
      ]
     },
     "metadata": {},
     "output_type": "display_data"
    }
   ],
   "source": [
    "sns.boxplot(titanic_train['Age'])"
   ]
  },
  {
   "cell_type": "code",
   "execution_count": null,
   "id": "bfb8946b",
   "metadata": {
    "papermill": {
     "duration": 0.01163,
     "end_time": "2023-07-19T08:34:37.949363",
     "exception": false,
     "start_time": "2023-07-19T08:34:37.937733",
     "status": "completed"
    },
    "tags": []
   },
   "outputs": [],
   "source": []
  }
 ],
 "metadata": {
  "kernelspec": {
   "display_name": "Python 3",
   "language": "python",
   "name": "python3"
  },
  "language_info": {
   "codemirror_mode": {
    "name": "ipython",
    "version": 3
   },
   "file_extension": ".py",
   "mimetype": "text/x-python",
   "name": "python",
   "nbconvert_exporter": "python",
   "pygments_lexer": "ipython3",
   "version": "3.10.10"
  },
  "papermill": {
   "default_parameters": {},
   "duration": 17.765652,
   "end_time": "2023-07-19T08:34:39.186382",
   "environment_variables": {},
   "exception": null,
   "input_path": "__notebook__.ipynb",
   "output_path": "__notebook__.ipynb",
   "parameters": {},
   "start_time": "2023-07-19T08:34:21.420730",
   "version": "2.4.0"
  }
 },
 "nbformat": 4,
 "nbformat_minor": 5
}
